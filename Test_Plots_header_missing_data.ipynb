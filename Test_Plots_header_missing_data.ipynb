{
 "cells": [
  {
   "cell_type": "markdown",
   "metadata": {},
   "source": [
    "# Test Plots on Recorded Temperature Data\n",
    "Wtih:\n",
    "- Header\n",
    "- Missing Data"
   ]
  },
  {
   "cell_type": "code",
   "execution_count": 120,
   "metadata": {},
   "outputs": [],
   "source": [
    "import numpy as np\n",
    "import pandas as pd\n",
    "import matplotlib.pyplot as plt\n",
    "import seaborn as sns; sns.set()\n",
    "import scipy\n",
    "%matplotlib inline "
   ]
  },
  {
   "cell_type": "code",
   "execution_count": 2,
   "metadata": {},
   "outputs": [
    {
     "name": "stdout",
     "output_type": "stream",
     "text": [
      "/Users/christophegarant/Documents/GitHub/BevChill/TestResults\n"
     ]
    }
   ],
   "source": [
    "cd TestResults/"
   ]
  },
  {
   "cell_type": "code",
   "execution_count": 124,
   "metadata": {},
   "outputs": [
    {
     "name": "stdout",
     "output_type": "stream",
     "text": [
      "Notes.md                              Perroni_20190724_Part2.csv\r\n",
      "Perroni_20190716.csv                  Perroni_20190724_Part3.csv\r\n",
      "Perroni_20190719.csv                  Water_in_Perroni_Bottle_20190716.csv\r\n",
      "Perroni_20190724 Part 1.csv           bevPlot.py\r\n"
     ]
    }
   ],
   "source": [
    "ls"
   ]
  },
  {
   "cell_type": "code",
   "execution_count": 146,
   "metadata": {},
   "outputs": [
    {
     "data": {
      "text/html": [
       "<div>\n",
       "<style scoped>\n",
       "    .dataframe tbody tr th:only-of-type {\n",
       "        vertical-align: middle;\n",
       "    }\n",
       "\n",
       "    .dataframe tbody tr th {\n",
       "        vertical-align: top;\n",
       "    }\n",
       "\n",
       "    .dataframe thead th {\n",
       "        text-align: right;\n",
       "    }\n",
       "</style>\n",
       "<table border=\"1\" class=\"dataframe\">\n",
       "  <thead>\n",
       "    <tr style=\"text-align: right;\">\n",
       "      <th></th>\n",
       "      <th>time_stamp</th>\n",
       "      <th>elapsed_time</th>\n",
       "      <th>tempC_probe</th>\n",
       "      <th>tempF_probe</th>\n",
       "      <th>tempC_amb</th>\n",
       "      <th>tempF_amb</th>\n",
       "      <th>tempC_humidity</th>\n",
       "      <th>Unnamed: 7</th>\n",
       "      <th>Unnamed: 8</th>\n",
       "      <th>Unnamed: 9</th>\n",
       "    </tr>\n",
       "  </thead>\n",
       "  <tbody>\n",
       "    <tr>\n",
       "      <th>0</th>\n",
       "      <td>['07/24/19 19:40:57'</td>\n",
       "      <td>1.858</td>\n",
       "      <td>20.562</td>\n",
       "      <td>69.125</td>\n",
       "      <td>22</td>\n",
       "      <td>71.6</td>\n",
       "      <td>63.0]</td>\n",
       "      <td>NaN</td>\n",
       "      <td>NaN</td>\n",
       "      <td>NaN</td>\n",
       "    </tr>\n",
       "    <tr>\n",
       "      <th>1</th>\n",
       "      <td>['07/24/19 19:41:07'</td>\n",
       "      <td>11.938</td>\n",
       "      <td>20.562</td>\n",
       "      <td>69.125</td>\n",
       "      <td>22</td>\n",
       "      <td>71.6</td>\n",
       "      <td>63.0]</td>\n",
       "      <td>NaN</td>\n",
       "      <td>NaN</td>\n",
       "      <td>NaN</td>\n",
       "    </tr>\n",
       "    <tr>\n",
       "      <th>2</th>\n",
       "      <td>['07/24/19 19:41:17'</td>\n",
       "      <td>22.018</td>\n",
       "      <td>20.625</td>\n",
       "      <td>69.125</td>\n",
       "      <td>0</td>\n",
       "      <td>32.0</td>\n",
       "      <td>0]</td>\n",
       "      <td>NaN</td>\n",
       "      <td>NaN</td>\n",
       "      <td>NaN</td>\n",
       "    </tr>\n",
       "    <tr>\n",
       "      <th>3</th>\n",
       "      <td>['07/24/19 19:41:28'</td>\n",
       "      <td>32.098</td>\n",
       "      <td>20.625</td>\n",
       "      <td>69.125</td>\n",
       "      <td>0</td>\n",
       "      <td>32.0</td>\n",
       "      <td>0]</td>\n",
       "      <td>NaN</td>\n",
       "      <td>NaN</td>\n",
       "      <td>NaN</td>\n",
       "    </tr>\n",
       "    <tr>\n",
       "      <th>4</th>\n",
       "      <td>['07/24/19 19:41:38'</td>\n",
       "      <td>42.178</td>\n",
       "      <td>20.625</td>\n",
       "      <td>69.125</td>\n",
       "      <td>22</td>\n",
       "      <td>71.6</td>\n",
       "      <td>59.0]</td>\n",
       "      <td>NaN</td>\n",
       "      <td>NaN</td>\n",
       "      <td></td>\n",
       "    </tr>\n",
       "  </tbody>\n",
       "</table>\n",
       "</div>"
      ],
      "text/plain": [
       "             time_stamp  elapsed_time  tempC_probe  tempF_probe  tempC_amb  \\\n",
       "0  ['07/24/19 19:40:57'         1.858       20.562       69.125         22   \n",
       "1  ['07/24/19 19:41:07'        11.938       20.562       69.125         22   \n",
       "2  ['07/24/19 19:41:17'        22.018       20.625       69.125          0   \n",
       "3  ['07/24/19 19:41:28'        32.098       20.625       69.125          0   \n",
       "4  ['07/24/19 19:41:38'        42.178       20.625       69.125         22   \n",
       "\n",
       "   tempF_amb tempC_humidity  Unnamed: 7  Unnamed: 8 Unnamed: 9  \n",
       "0       71.6          63.0]         NaN         NaN        NaN  \n",
       "1       71.6          63.0]         NaN         NaN        NaN  \n",
       "2       32.0             0]         NaN         NaN        NaN  \n",
       "3       32.0             0]         NaN         NaN        NaN  \n",
       "4       71.6          59.0]         NaN         NaN             "
      ]
     },
     "execution_count": 146,
     "metadata": {},
     "output_type": "execute_result"
    }
   ],
   "source": [
    "p = pd.read_csv('Perroni_20190724 Part 1.csv')\n",
    "p.head()"
   ]
  },
  {
   "cell_type": "code",
   "execution_count": 147,
   "metadata": {},
   "outputs": [
    {
     "data": {
      "text/html": [
       "<div>\n",
       "<style scoped>\n",
       "    .dataframe tbody tr th:only-of-type {\n",
       "        vertical-align: middle;\n",
       "    }\n",
       "\n",
       "    .dataframe tbody tr th {\n",
       "        vertical-align: top;\n",
       "    }\n",
       "\n",
       "    .dataframe thead th {\n",
       "        text-align: right;\n",
       "    }\n",
       "</style>\n",
       "<table border=\"1\" class=\"dataframe\">\n",
       "  <thead>\n",
       "    <tr style=\"text-align: right;\">\n",
       "      <th></th>\n",
       "      <th>time_stamp</th>\n",
       "      <th>elapsed_time</th>\n",
       "      <th>tempC_probe</th>\n",
       "      <th>tempF_probe</th>\n",
       "      <th>tempC_amb</th>\n",
       "      <th>tempF_amb</th>\n",
       "      <th>tempC_humidity</th>\n",
       "    </tr>\n",
       "  </thead>\n",
       "  <tbody>\n",
       "    <tr>\n",
       "      <th>0</th>\n",
       "      <td>['07/24/19 19:40:57'</td>\n",
       "      <td>1.858</td>\n",
       "      <td>20.562</td>\n",
       "      <td>69.125</td>\n",
       "      <td>22</td>\n",
       "      <td>71.6</td>\n",
       "      <td>63.0]</td>\n",
       "    </tr>\n",
       "    <tr>\n",
       "      <th>1</th>\n",
       "      <td>['07/24/19 19:41:07'</td>\n",
       "      <td>11.938</td>\n",
       "      <td>20.562</td>\n",
       "      <td>69.125</td>\n",
       "      <td>22</td>\n",
       "      <td>71.6</td>\n",
       "      <td>63.0]</td>\n",
       "    </tr>\n",
       "    <tr>\n",
       "      <th>2</th>\n",
       "      <td>['07/24/19 19:41:17'</td>\n",
       "      <td>22.018</td>\n",
       "      <td>20.625</td>\n",
       "      <td>69.125</td>\n",
       "      <td>0</td>\n",
       "      <td>32.0</td>\n",
       "      <td>0]</td>\n",
       "    </tr>\n",
       "    <tr>\n",
       "      <th>3</th>\n",
       "      <td>['07/24/19 19:41:28'</td>\n",
       "      <td>32.098</td>\n",
       "      <td>20.625</td>\n",
       "      <td>69.125</td>\n",
       "      <td>0</td>\n",
       "      <td>32.0</td>\n",
       "      <td>0]</td>\n",
       "    </tr>\n",
       "    <tr>\n",
       "      <th>4</th>\n",
       "      <td>['07/24/19 19:41:38'</td>\n",
       "      <td>42.178</td>\n",
       "      <td>20.625</td>\n",
       "      <td>69.125</td>\n",
       "      <td>22</td>\n",
       "      <td>71.6</td>\n",
       "      <td>59.0]</td>\n",
       "    </tr>\n",
       "  </tbody>\n",
       "</table>\n",
       "</div>"
      ],
      "text/plain": [
       "             time_stamp  elapsed_time  tempC_probe  tempF_probe  tempC_amb  \\\n",
       "0  ['07/24/19 19:40:57'         1.858       20.562       69.125         22   \n",
       "1  ['07/24/19 19:41:07'        11.938       20.562       69.125         22   \n",
       "2  ['07/24/19 19:41:17'        22.018       20.625       69.125          0   \n",
       "3  ['07/24/19 19:41:28'        32.098       20.625       69.125          0   \n",
       "4  ['07/24/19 19:41:38'        42.178       20.625       69.125         22   \n",
       "\n",
       "   tempF_amb tempC_humidity  \n",
       "0       71.6          63.0]  \n",
       "1       71.6          63.0]  \n",
       "2       32.0             0]  \n",
       "3       32.0             0]  \n",
       "4       71.6          59.0]  "
      ]
     },
     "execution_count": 147,
     "metadata": {},
     "output_type": "execute_result"
    }
   ],
   "source": [
    "p = p.drop(['Unnamed: 7','Unnamed: 8','Unnamed: 9'],axis=1)\n",
    "p.head()"
   ]
  },
  {
   "cell_type": "code",
   "execution_count": 148,
   "metadata": {},
   "outputs": [
    {
     "data": {
      "text/html": [
       "<div>\n",
       "<style scoped>\n",
       "    .dataframe tbody tr th:only-of-type {\n",
       "        vertical-align: middle;\n",
       "    }\n",
       "\n",
       "    .dataframe tbody tr th {\n",
       "        vertical-align: top;\n",
       "    }\n",
       "\n",
       "    .dataframe thead th {\n",
       "        text-align: right;\n",
       "    }\n",
       "</style>\n",
       "<table border=\"1\" class=\"dataframe\">\n",
       "  <thead>\n",
       "    <tr style=\"text-align: right;\">\n",
       "      <th></th>\n",
       "      <th>time_stamp</th>\n",
       "      <th>elapsed_time</th>\n",
       "      <th>tempC_probe</th>\n",
       "      <th>tempF_probe</th>\n",
       "      <th>tempC_amb</th>\n",
       "      <th>tempF_amb</th>\n",
       "      <th>tempC_humidity</th>\n",
       "    </tr>\n",
       "  </thead>\n",
       "  <tbody>\n",
       "    <tr>\n",
       "      <th>0</th>\n",
       "      <td>'07/24/19 19:40:57'</td>\n",
       "      <td>1.858</td>\n",
       "      <td>20.562</td>\n",
       "      <td>69.125</td>\n",
       "      <td>22</td>\n",
       "      <td>71.6</td>\n",
       "      <td>63.0</td>\n",
       "    </tr>\n",
       "    <tr>\n",
       "      <th>1</th>\n",
       "      <td>'07/24/19 19:41:07'</td>\n",
       "      <td>11.938</td>\n",
       "      <td>20.562</td>\n",
       "      <td>69.125</td>\n",
       "      <td>22</td>\n",
       "      <td>71.6</td>\n",
       "      <td>63.0</td>\n",
       "    </tr>\n",
       "    <tr>\n",
       "      <th>2</th>\n",
       "      <td>'07/24/19 19:41:17'</td>\n",
       "      <td>22.018</td>\n",
       "      <td>20.625</td>\n",
       "      <td>69.125</td>\n",
       "      <td>0</td>\n",
       "      <td>32.0</td>\n",
       "      <td>0</td>\n",
       "    </tr>\n",
       "    <tr>\n",
       "      <th>3</th>\n",
       "      <td>'07/24/19 19:41:28'</td>\n",
       "      <td>32.098</td>\n",
       "      <td>20.625</td>\n",
       "      <td>69.125</td>\n",
       "      <td>0</td>\n",
       "      <td>32.0</td>\n",
       "      <td>0</td>\n",
       "    </tr>\n",
       "    <tr>\n",
       "      <th>4</th>\n",
       "      <td>'07/24/19 19:41:38'</td>\n",
       "      <td>42.178</td>\n",
       "      <td>20.625</td>\n",
       "      <td>69.125</td>\n",
       "      <td>22</td>\n",
       "      <td>71.6</td>\n",
       "      <td>59.0</td>\n",
       "    </tr>\n",
       "  </tbody>\n",
       "</table>\n",
       "</div>"
      ],
      "text/plain": [
       "            time_stamp  elapsed_time  tempC_probe  tempF_probe  tempC_amb  \\\n",
       "0  '07/24/19 19:40:57'         1.858       20.562       69.125         22   \n",
       "1  '07/24/19 19:41:07'        11.938       20.562       69.125         22   \n",
       "2  '07/24/19 19:41:17'        22.018       20.625       69.125          0   \n",
       "3  '07/24/19 19:41:28'        32.098       20.625       69.125          0   \n",
       "4  '07/24/19 19:41:38'        42.178       20.625       69.125         22   \n",
       "\n",
       "   tempF_amb tempC_humidity  \n",
       "0       71.6           63.0  \n",
       "1       71.6           63.0  \n",
       "2       32.0              0  \n",
       "3       32.0              0  \n",
       "4       71.6           59.0  "
      ]
     },
     "execution_count": 148,
     "metadata": {},
     "output_type": "execute_result"
    }
   ],
   "source": [
    "#clean up data\n",
    "p['time_stamp'] = p['time_stamp'].str.strip(\"[\")\n",
    "p['tempC_humidity'] = p['tempC_humidity'].str.strip(\"]\")\n",
    "p.head()"
   ]
  },
  {
   "cell_type": "code",
   "execution_count": 149,
   "metadata": {},
   "outputs": [
    {
     "data": {
      "text/html": [
       "<div>\n",
       "<style scoped>\n",
       "    .dataframe tbody tr th:only-of-type {\n",
       "        vertical-align: middle;\n",
       "    }\n",
       "\n",
       "    .dataframe tbody tr th {\n",
       "        vertical-align: top;\n",
       "    }\n",
       "\n",
       "    .dataframe thead th {\n",
       "        text-align: right;\n",
       "    }\n",
       "</style>\n",
       "<table border=\"1\" class=\"dataframe\">\n",
       "  <thead>\n",
       "    <tr style=\"text-align: right;\">\n",
       "      <th></th>\n",
       "      <th>elapsed_time</th>\n",
       "      <th>tempC_probe</th>\n",
       "      <th>tempC_amb</th>\n",
       "    </tr>\n",
       "  </thead>\n",
       "  <tbody>\n",
       "    <tr>\n",
       "      <th>0</th>\n",
       "      <td>1.858</td>\n",
       "      <td>20.562</td>\n",
       "      <td>22</td>\n",
       "    </tr>\n",
       "    <tr>\n",
       "      <th>1</th>\n",
       "      <td>11.938</td>\n",
       "      <td>20.562</td>\n",
       "      <td>22</td>\n",
       "    </tr>\n",
       "    <tr>\n",
       "      <th>2</th>\n",
       "      <td>22.018</td>\n",
       "      <td>20.625</td>\n",
       "      <td>0</td>\n",
       "    </tr>\n",
       "    <tr>\n",
       "      <th>3</th>\n",
       "      <td>32.098</td>\n",
       "      <td>20.625</td>\n",
       "      <td>0</td>\n",
       "    </tr>\n",
       "    <tr>\n",
       "      <th>4</th>\n",
       "      <td>42.178</td>\n",
       "      <td>20.625</td>\n",
       "      <td>22</td>\n",
       "    </tr>\n",
       "  </tbody>\n",
       "</table>\n",
       "</div>"
      ],
      "text/plain": [
       "   elapsed_time  tempC_probe  tempC_amb\n",
       "0         1.858       20.562         22\n",
       "1        11.938       20.562         22\n",
       "2        22.018       20.625          0\n",
       "3        32.098       20.625          0\n",
       "4        42.178       20.625         22"
      ]
     },
     "execution_count": 149,
     "metadata": {},
     "output_type": "execute_result"
    }
   ],
   "source": [
    "p[['elapsed_time','tempC_probe','tempC_amb']].head()"
   ]
  },
  {
   "cell_type": "code",
   "execution_count": 150,
   "metadata": {},
   "outputs": [
    {
     "data": {
      "text/html": [
       "<div>\n",
       "<style scoped>\n",
       "    .dataframe tbody tr th:only-of-type {\n",
       "        vertical-align: middle;\n",
       "    }\n",
       "\n",
       "    .dataframe tbody tr th {\n",
       "        vertical-align: top;\n",
       "    }\n",
       "\n",
       "    .dataframe thead th {\n",
       "        text-align: right;\n",
       "    }\n",
       "</style>\n",
       "<table border=\"1\" class=\"dataframe\">\n",
       "  <thead>\n",
       "    <tr style=\"text-align: right;\">\n",
       "      <th></th>\n",
       "      <th>elapsed_time</th>\n",
       "      <th>tempC_probe</th>\n",
       "      <th>tempC_amb</th>\n",
       "    </tr>\n",
       "  </thead>\n",
       "  <tbody>\n",
       "    <tr>\n",
       "      <th>0</th>\n",
       "      <td>1.858</td>\n",
       "      <td>20.562</td>\n",
       "      <td>22</td>\n",
       "    </tr>\n",
       "    <tr>\n",
       "      <th>1</th>\n",
       "      <td>11.938</td>\n",
       "      <td>20.562</td>\n",
       "      <td>22</td>\n",
       "    </tr>\n",
       "    <tr>\n",
       "      <th>2</th>\n",
       "      <td>22.018</td>\n",
       "      <td>20.625</td>\n",
       "      <td>0</td>\n",
       "    </tr>\n",
       "    <tr>\n",
       "      <th>3</th>\n",
       "      <td>32.098</td>\n",
       "      <td>20.625</td>\n",
       "      <td>0</td>\n",
       "    </tr>\n",
       "    <tr>\n",
       "      <th>4</th>\n",
       "      <td>42.178</td>\n",
       "      <td>20.625</td>\n",
       "      <td>22</td>\n",
       "    </tr>\n",
       "  </tbody>\n",
       "</table>\n",
       "</div>"
      ],
      "text/plain": [
       "   elapsed_time  tempC_probe  tempC_amb\n",
       "0         1.858       20.562         22\n",
       "1        11.938       20.562         22\n",
       "2        22.018       20.625          0\n",
       "3        32.098       20.625          0\n",
       "4        42.178       20.625         22"
      ]
     },
     "execution_count": 150,
     "metadata": {},
     "output_type": "execute_result"
    }
   ],
   "source": [
    "pp = p[['elapsed_time','tempC_probe','tempC_amb']]\n",
    "pp.head()"
   ]
  },
  {
   "cell_type": "code",
   "execution_count": 151,
   "metadata": {},
   "outputs": [
    {
     "data": {
      "text/plain": [
       "<matplotlib.axes._subplots.AxesSubplot at 0x1a21635b00>"
      ]
     },
     "execution_count": 151,
     "metadata": {},
     "output_type": "execute_result"
    },
    {
     "data": {
      "image/png": "[encoded data removed]",
      "text/plain": [
       "<Figure size 1080x720 with 1 Axes>"
      ]
     },
     "metadata": {
      "needs_background": "light"
     },
     "output_type": "display_data"
    },
    {
     "data": {
      "image/png": "[encoded data removed]",
      "text/plain": [
       "<Figure size 1080x720 with 1 Axes>"
      ]
     },
     "metadata": {
      "needs_background": "light"
     },
     "output_type": "display_data"
    }
   ],
   "source": [
    "pp.plot(x='elapsed_time',y='tempC_probe',figsize=(15,10),lw=4,title='Perroni in Freezer')\n",
    "pp.plot(x='elapsed_time',y='tempC_amb',figsize=(15,10),lw=4,title='Perroni in Freezer')"
   ]
  },
  {
   "cell_type": "code",
   "execution_count": 152,
   "metadata": {},
   "outputs": [
    {
     "data": {
      "text/plain": [
       "0     22\n",
       "1     22\n",
       "2      0\n",
       "3      0\n",
       "4     22\n",
       "5      0\n",
       "6      0\n",
       "7     21\n",
       "8     21\n",
       "9      0\n",
       "10    19\n",
       "11     0\n",
       "12     0\n",
       "13     0\n",
       "14    13\n",
       "15    12\n",
       "16    11\n",
       "17    10\n",
       "18     8\n",
       "19     7\n",
       "20     6\n",
       "21     5\n",
       "22     4\n",
       "23     0\n",
       "24     3\n",
       "25     2\n",
       "26     1\n",
       "27     1\n",
       "28     1\n",
       "29     1\n",
       "Name: tempC_amb, dtype: int64"
      ]
     },
     "execution_count": 152,
     "metadata": {},
     "output_type": "execute_result"
    }
   ],
   "source": [
    "p['tempC_amb'].head(30)"
   ]
  },
  {
   "cell_type": "code",
   "execution_count": 153,
   "metadata": {},
   "outputs": [
    {
     "data": {
      "text/plain": [
       "<matplotlib.axes._subplots.AxesSubplot at 0x1a21733cf8>"
      ]
     },
     "execution_count": 153,
     "metadata": {},
     "output_type": "execute_result"
    },
    {
     "data": {
      "image/png": "[encoded data removed]",
      "text/plain": [
       "<Figure size 432x288 with 1 Axes>"
      ]
     },
     "metadata": {
      "needs_background": "light"
     },
     "output_type": "display_data"
    }
   ],
   "source": [
    "p['tempC_amb'].head(30).plot()"
   ]
  },
  {
   "cell_type": "code",
   "execution_count": 154,
   "metadata": {},
   "outputs": [
    {
     "data": {
      "text/plain": [
       "<matplotlib.axes._subplots.AxesSubplot at 0x1a217a1208>"
      ]
     },
     "execution_count": 154,
     "metadata": {},
     "output_type": "execute_result"
    },
    {
     "data": {
      "image/png": "[encoded data removed]",
      "text/plain": [
       "<Figure size 432x288 with 1 Axes>"
      ]
     },
     "metadata": {
      "needs_background": "light"
     },
     "output_type": "display_data"
    }
   ],
   "source": [
    "p['tempC_amb'].interpolate(method='akima').plot()"
   ]
  },
  {
   "cell_type": "code",
   "execution_count": null,
   "metadata": {},
   "outputs": [],
   "source": []
  },
  {
   "cell_type": "code",
   "execution_count": null,
   "metadata": {},
   "outputs": [],
   "source": []
  }
 ],
 "metadata": {
  "kernelspec": {
   "display_name": "Python 3",
   "language": "python",
   "name": "python3"
  },
  "language_info": {
   "codemirror_mode": {
    "name": "ipython",
    "version": 3
   },
   "file_extension": ".py",
   "mimetype": "text/x-python",
   "name": "python",
   "nbconvert_exporter": "python",
   "pygments_lexer": "ipython3",
   "version": "3.7.3"
  }
 },
 "nbformat": 4,
 "nbformat_minor": 2
}
