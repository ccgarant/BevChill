{
 "cells": [
  {
   "cell_type": "markdown",
   "metadata": {},
   "source": [
    "# Chill Notebook"
   ]
  },
  {
   "cell_type": "code",
   "execution_count": 165,
   "metadata": {},
   "outputs": [],
   "source": [
    "#imports\n",
    "# from w1thermsensor import W1ThermSensor\n",
    "%matplotlib inline\n",
    "import threading\n",
    "import sys\n",
    "import time\n",
    "import numpy as ny\n",
    "import seaborn as sns; sns.set()\n",
    "import pandas as pd\n",
    "import matplotlib.pyplot as plt"
   ]
  },
  {
   "cell_type": "code",
   "execution_count": 189,
   "metadata": {},
   "outputs": [],
   "source": [
    "#Initialization\n",
    "start_time = time.time()\n",
    "sleep_time = 10 #seconds, time between temperature readings"
   ]
  },
  {
   "cell_type": "code",
   "execution_count": 190,
   "metadata": {},
   "outputs": [],
   "source": [
    "def read_temp():\n",
    "    \n",
    "  #fake temperature sensor readings\n",
    "  temp_in_celsius = 4 #fake temp reading from sensor\n",
    "  temp_in_fahrenheit = 39  #fake temp reading from sensor\n",
    "\n",
    "  #data\n",
    "  time_stamp = time.strftime('%x %X')\n",
    "  elapsed_time = time.time() - start_time  #seconds\n",
    "  elapsed_time = round(elapsed_time,3)\n",
    "\n",
    "  data = [\n",
    "      time_stamp, \n",
    "      elapsed_time, \n",
    "      temp_in_celsius,\n",
    "      temp_in_fahrenheit\n",
    "  ]\n",
    "\n",
    "  #info to print to screen\n",
    "  print(\"---------------------\")\n",
    "  print(temp_in_celsius, \" deg C\")\n",
    "  print(temp_in_fahrenheit, \" deg F\")\n",
    "  print(elapsed_time, \" sec, time elapsed\")\n",
    "  print(\"---------------------\")\n",
    "#   print(str(data))\n",
    "  print(time_stamp,elapsed_time,temp_in_celsius,temp_in_fahrenheit,\"\\n\")\n",
    "    \n",
    "  #write data to file\n",
    "  with open('test.csv', 'a') as file:\n",
    "    file.write(str(data)+\"\\n\")"
   ]
  },
  {
   "cell_type": "code",
   "execution_count": 191,
   "metadata": {},
   "outputs": [
    {
     "name": "stdout",
     "output_type": "stream",
     "text": [
      "---------------------\n",
      "4  deg C\n",
      "39  deg F\n",
      "0.488  sec, time elapsed\n",
      "---------------------\n",
      "07/19/19 20:34:19 0.488 4 39 \n",
      "\n",
      "---------------------\n",
      "4  deg C\n",
      "39  deg F\n",
      "0.49  sec, time elapsed\n",
      "---------------------\n",
      "07/19/19 20:34:19 0.49 4 39 \n",
      "\n",
      "---------------------\n",
      "4  deg C\n",
      "39  deg F\n",
      "0.492  sec, time elapsed\n",
      "---------------------\n",
      "07/19/19 20:34:19 0.492 4 39 \n",
      "\n",
      "---------------------\n",
      "4  deg C\n",
      "39  deg F\n",
      "0.493  sec, time elapsed\n",
      "---------------------\n",
      "07/19/19 20:34:19 0.493 4 39 \n",
      "\n"
     ]
    }
   ],
   "source": [
    "read_temp()\n",
    "read_temp()\n",
    "read_temp()\n",
    "read_temp()"
   ]
  },
  {
   "cell_type": "code",
   "execution_count": 192,
   "metadata": {},
   "outputs": [
    {
     "data": {
      "text/plain": [
       "[0, 5, 4, 39]"
      ]
     },
     "execution_count": 192,
     "metadata": {},
     "output_type": "execute_result"
    }
   ],
   "source": [
    "time_stamp = 0\n",
    "elapsed_time = 5\n",
    "temp_in_celsius = 4\n",
    "temp_in_fahrenheit = 39\n",
    "\n",
    "data = [\n",
    "  time_stamp, \n",
    "  elapsed_time, \n",
    "  temp_in_celsius,\n",
    "  temp_in_fahrenheit\n",
    "]\n",
    "\n",
    "data"
   ]
  },
  {
   "cell_type": "code",
   "execution_count": 193,
   "metadata": {},
   "outputs": [
    {
     "data": {
      "text/plain": [
       "list"
      ]
     },
     "execution_count": 193,
     "metadata": {},
     "output_type": "execute_result"
    }
   ],
   "source": [
    "type(data)"
   ]
  },
  {
   "cell_type": "code",
   "execution_count": 208,
   "metadata": {},
   "outputs": [],
   "source": [
    "t = pd.read_csv('test.csv', names = [\"date time\",'time','C','F'])"
   ]
  },
  {
   "cell_type": "code",
   "execution_count": 209,
   "metadata": {},
   "outputs": [
    {
     "data": {
      "text/html": [
       "<div>\n",
       "<style scoped>\n",
       "    .dataframe tbody tr th:only-of-type {\n",
       "        vertical-align: middle;\n",
       "    }\n",
       "\n",
       "    .dataframe tbody tr th {\n",
       "        vertical-align: top;\n",
       "    }\n",
       "\n",
       "    .dataframe thead th {\n",
       "        text-align: right;\n",
       "    }\n",
       "</style>\n",
       "<table border=\"1\" class=\"dataframe\">\n",
       "  <thead>\n",
       "    <tr style=\"text-align: right;\">\n",
       "      <th></th>\n",
       "      <th>date time</th>\n",
       "      <th>time</th>\n",
       "      <th>C</th>\n",
       "      <th>F</th>\n",
       "    </tr>\n",
       "  </thead>\n",
       "  <tbody>\n",
       "    <tr>\n",
       "      <th>0</th>\n",
       "      <td>['07/19/19 20:12:44'</td>\n",
       "      <td>148.769</td>\n",
       "      <td>4</td>\n",
       "      <td>39]</td>\n",
       "    </tr>\n",
       "    <tr>\n",
       "      <th>1</th>\n",
       "      <td>['07/19/19 20:12:44'</td>\n",
       "      <td>148.772</td>\n",
       "      <td>4</td>\n",
       "      <td>39]</td>\n",
       "    </tr>\n",
       "    <tr>\n",
       "      <th>2</th>\n",
       "      <td>['07/19/19 20:12:44'</td>\n",
       "      <td>148.774</td>\n",
       "      <td>4</td>\n",
       "      <td>39]</td>\n",
       "    </tr>\n",
       "    <tr>\n",
       "      <th>3</th>\n",
       "      <td>['07/19/19 20:12:44'</td>\n",
       "      <td>148.775</td>\n",
       "      <td>4</td>\n",
       "      <td>39]</td>\n",
       "    </tr>\n",
       "    <tr>\n",
       "      <th>4</th>\n",
       "      <td>['07/19/19 20:14:21'</td>\n",
       "      <td>245.837</td>\n",
       "      <td>4</td>\n",
       "      <td>39]</td>\n",
       "    </tr>\n",
       "  </tbody>\n",
       "</table>\n",
       "</div>"
      ],
      "text/plain": [
       "              date time     time  C     F\n",
       "0  ['07/19/19 20:12:44'  148.769  4   39]\n",
       "1  ['07/19/19 20:12:44'  148.772  4   39]\n",
       "2  ['07/19/19 20:12:44'  148.774  4   39]\n",
       "3  ['07/19/19 20:12:44'  148.775  4   39]\n",
       "4  ['07/19/19 20:14:21'  245.837  4   39]"
      ]
     },
     "execution_count": 209,
     "metadata": {},
     "output_type": "execute_result"
    }
   ],
   "source": [
    "t.head()"
   ]
  },
  {
   "cell_type": "code",
   "execution_count": 210,
   "metadata": {},
   "outputs": [],
   "source": [
    "t['date time'] = t['date time'].str.strip(\"[\")"
   ]
  },
  {
   "cell_type": "code",
   "execution_count": 211,
   "metadata": {},
   "outputs": [],
   "source": [
    "t['F'] = t['F'].str.strip(\"]\")"
   ]
  },
  {
   "cell_type": "code",
   "execution_count": 212,
   "metadata": {},
   "outputs": [
    {
     "data": {
      "text/html": [
       "<div>\n",
       "<style scoped>\n",
       "    .dataframe tbody tr th:only-of-type {\n",
       "        vertical-align: middle;\n",
       "    }\n",
       "\n",
       "    .dataframe tbody tr th {\n",
       "        vertical-align: top;\n",
       "    }\n",
       "\n",
       "    .dataframe thead th {\n",
       "        text-align: right;\n",
       "    }\n",
       "</style>\n",
       "<table border=\"1\" class=\"dataframe\">\n",
       "  <thead>\n",
       "    <tr style=\"text-align: right;\">\n",
       "      <th></th>\n",
       "      <th>date time</th>\n",
       "      <th>time</th>\n",
       "      <th>C</th>\n",
       "      <th>F</th>\n",
       "    </tr>\n",
       "  </thead>\n",
       "  <tbody>\n",
       "    <tr>\n",
       "      <th>0</th>\n",
       "      <td>'07/19/19 20:12:44'</td>\n",
       "      <td>148.769</td>\n",
       "      <td>4</td>\n",
       "      <td>39</td>\n",
       "    </tr>\n",
       "    <tr>\n",
       "      <th>1</th>\n",
       "      <td>'07/19/19 20:12:44'</td>\n",
       "      <td>148.772</td>\n",
       "      <td>4</td>\n",
       "      <td>39</td>\n",
       "    </tr>\n",
       "    <tr>\n",
       "      <th>2</th>\n",
       "      <td>'07/19/19 20:12:44'</td>\n",
       "      <td>148.774</td>\n",
       "      <td>4</td>\n",
       "      <td>39</td>\n",
       "    </tr>\n",
       "    <tr>\n",
       "      <th>3</th>\n",
       "      <td>'07/19/19 20:12:44'</td>\n",
       "      <td>148.775</td>\n",
       "      <td>4</td>\n",
       "      <td>39</td>\n",
       "    </tr>\n",
       "    <tr>\n",
       "      <th>4</th>\n",
       "      <td>'07/19/19 20:14:21'</td>\n",
       "      <td>245.837</td>\n",
       "      <td>4</td>\n",
       "      <td>39</td>\n",
       "    </tr>\n",
       "  </tbody>\n",
       "</table>\n",
       "</div>"
      ],
      "text/plain": [
       "             date time     time  C    F\n",
       "0  '07/19/19 20:12:44'  148.769  4   39\n",
       "1  '07/19/19 20:12:44'  148.772  4   39\n",
       "2  '07/19/19 20:12:44'  148.774  4   39\n",
       "3  '07/19/19 20:12:44'  148.775  4   39\n",
       "4  '07/19/19 20:14:21'  245.837  4   39"
      ]
     },
     "execution_count": 212,
     "metadata": {},
     "output_type": "execute_result"
    }
   ],
   "source": [
    "t.head()"
   ]
  },
  {
   "cell_type": "code",
   "execution_count": 234,
   "metadata": {},
   "outputs": [],
   "source": [
    "tt = t[['time','C']]"
   ]
  },
  {
   "cell_type": "code",
   "execution_count": 235,
   "metadata": {},
   "outputs": [
    {
     "data": {
      "text/plain": [
       "<matplotlib.axes._subplots.AxesSubplot at 0x1a1718dc50>"
      ]
     },
     "execution_count": 235,
     "metadata": {},
     "output_type": "execute_result"
    },
    {
     "data": {
      "image/png": "[encoded data removed]",
      "text/plain": [
       "<Figure size 432x288 with 1 Axes>"
      ]
     },
     "metadata": {},
     "output_type": "display_data"
    }
   ],
   "source": [
    "sns.lineplot(x=[2,3,4], y=[4,60,7], data = tt)"
   ]
  },
  {
   "cell_type": "code",
   "execution_count": null,
   "metadata": {},
   "outputs": [],
   "source": []
  },
  {
   "cell_type": "code",
   "execution_count": null,
   "metadata": {},
   "outputs": [],
   "source": []
  },
  {
   "cell_type": "code",
   "execution_count": null,
   "metadata": {},
   "outputs": [],
   "source": []
  },
  {
   "cell_type": "code",
   "execution_count": null,
   "metadata": {},
   "outputs": [],
   "source": []
  }
 ],
 "metadata": {
  "kernelspec": {
   "display_name": "Python 3",
   "language": "python",
   "name": "python3"
  },
  "language_info": {
   "codemirror_mode": {
    "name": "ipython",
    "version": 3
   },
   "file_extension": ".py",
   "mimetype": "text/x-python",
   "name": "python",
   "nbconvert_exporter": "python",
   "pygments_lexer": "ipython3",
   "version": "3.7.2"
  }
 },
 "nbformat": 4,
 "nbformat_minor": 2
}
