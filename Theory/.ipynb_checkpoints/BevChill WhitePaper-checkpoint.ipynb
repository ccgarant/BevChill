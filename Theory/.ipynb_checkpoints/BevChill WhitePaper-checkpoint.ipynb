{
 "cells": [
  {
   "cell_type": "markdown",
   "metadata": {},
   "source": [
    "# BevChill Theory Notebook"
   ]
  },
  {
   "cell_type": "code",
   "execution_count": 2,
   "metadata": {},
   "outputs": [],
   "source": [
    "import numpy as np\n",
    "import pandas as pd\n",
    "import matplotlib.pyplot as plt"
   ]
  },
  {
   "cell_type": "markdown",
   "metadata": {},
   "source": [
    "## References:\n",
    "[1] Incropera, Frank P., David P. Dewitt, Theodore L. Bergman, and Adrienne S. Lavine. Fundamentals of Heat and Mass Transfer With Introduction to Mass and Heat Transfer. 6th ed. N.p.: John Wiley & Sons, 2007. Print.\n",
    "\n",
    "[2] Robert T. bailey & Wayne L. Elban (2008) Thermal Performance of Alumnium and Glass Beer Bottles, Heat Transfer Engineering, 29:7, 643-650\n",
    "\n",
    "[3] Raithby, G.D., and Hollands, K. G. T., Natural Convection, in Handbook of Heat Transfer Fundamentals, eds.  W. M. Rohsenhow, J. P. Hartnett, and E. N. Ganic, pp 6-67, McGraw-Hill, New York, 1985.\n",
    "\n",
    "[4] MathWorks on ode45 support, http://www.mathworks.com/help/matlab/ref/ode45.html\n"
   ]
  },
  {
   "cell_type": "markdown",
   "metadata": {},
   "source": [
    "## Problem\n",
    "\n",
    "It is unknown how long it takes to generally chill a beverage down to the ideal drinking temperature from room temperature.\n",
    "\n",
    "## Goal\n",
    "\n",
    "To estimate how long a certain beverage type needs to chill before reaching its ideal drinking temperature, based on various starting and end initial condition temperatures.  After validation with empirical testing, this analytical approached will be used on the back end of the Beer Chill App.\n",
    "\n",
    "## Approach\n",
    "\n",
    "Using Transient Heat Conduction – Lumped Capacitance Method. Transient Conduction Chapter 5, Sections 5 thru 5.3.  “The Lump Capacitance Method is a simple yet common method for which a solid suddenly changes in its thermal environment…The essence of the lumped capacitance method is the assumption that the temperature of the solid is spacially uniform at any instance during the transient process.  This assumption implies that temperature gradients within the solid are negligible.”  Using an undimensioned characteristic called the Biot Number (a ratio of the internal thermal resistance of a solid to the boundary layer thermal resistance), if the ratio is less than 1, one can make the assumption that the thermal change within the body is mostly uniform, or, the thermal gradients are negligible.  Thus the Fourier Heat Transfer Equation can be simplified.\n",
    "\n",
    "[Update]\n",
    "\n",
    "The Lumped Capacitance Method did not prove to have the most accurate results compared to the experimental data.  Therefore a different approach was used.  The approach of Thermal Resistance was used with an energy balance equation so that temperature could be solved in terms of time steps.  After validation, it proved to be the more accurate approach.\n"
   ]
  },
  {
   "cell_type": "markdown",
   "metadata": {},
   "source": [
    "$$\n",
    "-\\dot{E}_{out}= \\dot{E}_{stored} \\\\\n",
    "\\dot{E}_{stored} = \\dot{q}_{stored}=\\rho V c \\frac{d\\mathbf{T}}{d\\mathbf{t}}\\\\\n",
    "-\\dot{E}_{out}=Q=UA(T_{2,\\infty}-T_{center})\n",
    "$$"
   ]
  },
  {
   "cell_type": "markdown",
   "metadata": {},
   "source": [
    "$$\n",
    "U = \\frac{1}{R_{total}} = R_{1,conv}+R_{2,cond}+ \\\n",
    "(\\frac{1}{R_{3,conv}}+\\frac{1}{R_{4,rad}})^{-1}\n",
    "$$"
   ]
  },
  {
   "cell_type": "markdown",
   "metadata": {},
   "source": [
    "$$\n",
    "\\begin{align}\n",
    "& R_{1,conv}=\\frac{1}{h_{i}*2\\pi r H_{eqiv}}  \\\\\n",
    "& R_{2,cond}=\\frac{\\ln(\\frac{r_{out}}{r_{in}})}{2\\pi k L}  \\\\\n",
    "& R_{3,conv}=\\frac{1}{h_{o}*2\\pi r H_{eqiv}}  \\\\\n",
    "& R_{4,rad}=\\frac{1}{h_{r}*2\\pi r H_{eqiv}}  \\\\\n",
    "& H_{eqiv} = \\frac{V_L}{\\pi r_{i}^2}\n",
    "\\end{align}\n",
    "$$"
   ]
  },
  {
   "cell_type": "markdown",
   "metadata": {},
   "source": [
    "$$\n",
    "\\frac{\\Delta{T}}{R_{total}}=\\frac{(T_{center}-T_{2,\\infty})}{R_{total}}=\\rho V c \\frac{d\\mathbf{T}}{d\\mathbf{t}}\\\\\n",
    "{d\\mathbf{t}}\\left[\\frac{(T_{center}-T_{2,\\infty})}{(\\rho V c )(R_{total})}\\right]= d\\mathbf{T}\n",
    "$$"
   ]
  },
  {
   "cell_type": "markdown",
   "metadata": {},
   "source": [
    "## Conservation of Energy and Thermal Resistance Approach \n",
    "\n",
    "If the beer bottle is treated as a closed system from the initial conditions of being in equilibrium with the atmospheric temperature Tatm , and treating t0 as the starting time once placed in the refrigerator, the thermal mass has a stored energy which will be taken away by the cooler refrigerator conditions.  Given the conservation of energy\n",
    "\n",
    "-Eout=Estored\n",
    "\n",
    "The energy stored is a function of the material physical properties of the bottle and beverage, and the change in temperature with time, here only using the beverage properties as they are largely dominant.\n",
    "\n",
    "Estored=qstored=ρVcdTdt\n",
    "\n",
    "The energy dissipated can be modelled as Thermal Resistance, each heat transfer mode having its own resistance to dissipating heat, much like electrical resistance.  The Thermal Resistance approach is given by\n",
    "\n",
    "-Eout=Q=UA(T2,∞-Tcenter)\n",
    "\n",
    "Where U is the overall heat transfer coefficient, and A is the surface area.  \n",
    "For our application, a bottled beer being cooled can have a thermal resistance of internal convection between the beer and the inside bottle wall, conduction thru the bottle wall, and natural convection between the bottle outer wall and the refrigerator air, in parallel releasing heat from the bottle’s outer wall as radiation.  See Figure 1 and Figure 2.\n",
    "The assumptions in the thermal resistance model are (1) one-dimensional heat transfer in the radial direction, (2) heat transfer from the top and bottom of the bottle is negligible, (3) the bottle label is ignored.  These assumptions can be included in a more detailed analysis, but for our purposes are sufficient.\n",
    "\n",
    "Figure 1: Heat Transfer Diagram\n",
    "\n",
    "\n",
    "Figure 2: Thermal Resistance Diagram\n",
    "The thermal resistance for conduction in Cartesian coordinates is\n",
    "Rcond=LkAs\n",
    "where L is the thickness.  In our case for cylindrical coordinates, the equation for conduction is\n",
    "Rcond,r=ln⁡(r2r1)2πkL\n"
   ]
  },
  {
   "cell_type": "code",
   "execution_count": null,
   "metadata": {},
   "outputs": [],
   "source": []
  }
 ],
 "metadata": {
  "kernelspec": {
   "display_name": "Python 3",
   "language": "python",
   "name": "python3"
  },
  "language_info": {
   "codemirror_mode": {
    "name": "ipython",
    "version": 3
   },
   "file_extension": ".py",
   "mimetype": "text/x-python",
   "name": "python",
   "nbconvert_exporter": "python",
   "pygments_lexer": "ipython3",
   "version": "3.7.2"
  }
 },
 "nbformat": 4,
 "nbformat_minor": 2
}
