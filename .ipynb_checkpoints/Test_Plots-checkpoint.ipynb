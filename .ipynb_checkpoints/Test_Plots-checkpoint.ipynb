{
 "cells": [
  {
   "cell_type": "markdown",
   "metadata": {},
   "source": [
    "# Test Plots on Recorded Temperature Data"
   ]
  },
  {
   "cell_type": "code",
   "execution_count": 1,
   "metadata": {},
   "outputs": [],
   "source": [
    "import numpy as np\n",
    "import pandas as pd\n",
    "import matplotlib.pyplot as plt\n",
    "import seaborn as sns; sns.set()\n",
    "%matplotlib inline"
   ]
  },
  {
   "cell_type": "code",
   "execution_count": 2,
   "metadata": {},
   "outputs": [
    {
     "name": "stdout",
     "output_type": "stream",
     "text": [
      "/Users/christophegarant/Documents/GitHub/BevChill/TestResults\n"
     ]
    }
   ],
   "source": [
    "cd TestResults/"
   ]
  },
  {
   "cell_type": "code",
   "execution_count": 3,
   "metadata": {},
   "outputs": [
    {
     "name": "stdout",
     "output_type": "stream",
     "text": [
      "Perroni_20190716.csv                  bevPlot.py\r\n",
      "Water_in_Perroni_Bottle_20190716.csv\r\n"
     ]
    }
   ],
   "source": [
    "ls"
   ]
  },
  {
   "cell_type": "code",
   "execution_count": 4,
   "metadata": {},
   "outputs": [],
   "source": [
    "p = pd.read_csv('Perroni_20190716.csv', names=['datetime','time','T deg C','T deg F'])"
   ]
  },
  {
   "cell_type": "code",
   "execution_count": 5,
   "metadata": {},
   "outputs": [
    {
     "data": {
      "text/html": [
       "<div>\n",
       "<style scoped>\n",
       "    .dataframe tbody tr th:only-of-type {\n",
       "        vertical-align: middle;\n",
       "    }\n",
       "\n",
       "    .dataframe tbody tr th {\n",
       "        vertical-align: top;\n",
       "    }\n",
       "\n",
       "    .dataframe thead th {\n",
       "        text-align: right;\n",
       "    }\n",
       "</style>\n",
       "<table border=\"1\" class=\"dataframe\">\n",
       "  <thead>\n",
       "    <tr style=\"text-align: right;\">\n",
       "      <th></th>\n",
       "      <th>datetime</th>\n",
       "      <th>time</th>\n",
       "      <th>T deg C</th>\n",
       "      <th>T deg F</th>\n",
       "    </tr>\n",
       "  </thead>\n",
       "  <tbody>\n",
       "    <tr>\n",
       "      <th>0</th>\n",
       "      <td>['07/16/19 17:05:11'</td>\n",
       "      <td>1.752154</td>\n",
       "      <td>19.875</td>\n",
       "      <td>67.775]</td>\n",
       "    </tr>\n",
       "    <tr>\n",
       "      <th>1</th>\n",
       "      <td>['07/16/19 17:05:21'</td>\n",
       "      <td>11.752081</td>\n",
       "      <td>19.875</td>\n",
       "      <td>67.775]</td>\n",
       "    </tr>\n",
       "    <tr>\n",
       "      <th>2</th>\n",
       "      <td>['07/16/19 17:05:31'</td>\n",
       "      <td>21.752042</td>\n",
       "      <td>19.875</td>\n",
       "      <td>67.775]</td>\n",
       "    </tr>\n",
       "    <tr>\n",
       "      <th>3</th>\n",
       "      <td>['07/16/19 17:05:41'</td>\n",
       "      <td>31.751989</td>\n",
       "      <td>19.875</td>\n",
       "      <td>67.775]</td>\n",
       "    </tr>\n",
       "    <tr>\n",
       "      <th>4</th>\n",
       "      <td>['07/16/19 17:05:51'</td>\n",
       "      <td>41.753595</td>\n",
       "      <td>19.875</td>\n",
       "      <td>67.66159999999999]</td>\n",
       "    </tr>\n",
       "  </tbody>\n",
       "</table>\n",
       "</div>"
      ],
      "text/plain": [
       "               datetime       time  T deg C              T deg F\n",
       "0  ['07/16/19 17:05:11'   1.752154   19.875              67.775]\n",
       "1  ['07/16/19 17:05:21'  11.752081   19.875              67.775]\n",
       "2  ['07/16/19 17:05:31'  21.752042   19.875              67.775]\n",
       "3  ['07/16/19 17:05:41'  31.751989   19.875              67.775]\n",
       "4  ['07/16/19 17:05:51'  41.753595   19.875   67.66159999999999]"
      ]
     },
     "execution_count": 5,
     "metadata": {},
     "output_type": "execute_result"
    }
   ],
   "source": [
    "p.head()"
   ]
  },
  {
   "cell_type": "code",
   "execution_count": 6,
   "metadata": {},
   "outputs": [],
   "source": [
    "#clean up data\n",
    "p['datetime'] = p['datetime'].str.strip(\"[\")\n",
    "p['T deg F'] = p['T deg F'].str.strip(\"]\")"
   ]
  },
  {
   "cell_type": "code",
   "execution_count": 7,
   "metadata": {},
   "outputs": [
    {
     "data": {
      "text/html": [
       "<div>\n",
       "<style scoped>\n",
       "    .dataframe tbody tr th:only-of-type {\n",
       "        vertical-align: middle;\n",
       "    }\n",
       "\n",
       "    .dataframe tbody tr th {\n",
       "        vertical-align: top;\n",
       "    }\n",
       "\n",
       "    .dataframe thead th {\n",
       "        text-align: right;\n",
       "    }\n",
       "</style>\n",
       "<table border=\"1\" class=\"dataframe\">\n",
       "  <thead>\n",
       "    <tr style=\"text-align: right;\">\n",
       "      <th></th>\n",
       "      <th>datetime</th>\n",
       "      <th>time</th>\n",
       "      <th>T deg C</th>\n",
       "      <th>T deg F</th>\n",
       "    </tr>\n",
       "  </thead>\n",
       "  <tbody>\n",
       "    <tr>\n",
       "      <th>0</th>\n",
       "      <td>'07/16/19 17:05:11'</td>\n",
       "      <td>1.752154</td>\n",
       "      <td>19.875</td>\n",
       "      <td>67.775</td>\n",
       "    </tr>\n",
       "    <tr>\n",
       "      <th>1</th>\n",
       "      <td>'07/16/19 17:05:21'</td>\n",
       "      <td>11.752081</td>\n",
       "      <td>19.875</td>\n",
       "      <td>67.775</td>\n",
       "    </tr>\n",
       "    <tr>\n",
       "      <th>2</th>\n",
       "      <td>'07/16/19 17:05:31'</td>\n",
       "      <td>21.752042</td>\n",
       "      <td>19.875</td>\n",
       "      <td>67.775</td>\n",
       "    </tr>\n",
       "    <tr>\n",
       "      <th>3</th>\n",
       "      <td>'07/16/19 17:05:41'</td>\n",
       "      <td>31.751989</td>\n",
       "      <td>19.875</td>\n",
       "      <td>67.775</td>\n",
       "    </tr>\n",
       "    <tr>\n",
       "      <th>4</th>\n",
       "      <td>'07/16/19 17:05:51'</td>\n",
       "      <td>41.753595</td>\n",
       "      <td>19.875</td>\n",
       "      <td>67.66159999999999</td>\n",
       "    </tr>\n",
       "  </tbody>\n",
       "</table>\n",
       "</div>"
      ],
      "text/plain": [
       "              datetime       time  T deg C             T deg F\n",
       "0  '07/16/19 17:05:11'   1.752154   19.875              67.775\n",
       "1  '07/16/19 17:05:21'  11.752081   19.875              67.775\n",
       "2  '07/16/19 17:05:31'  21.752042   19.875              67.775\n",
       "3  '07/16/19 17:05:41'  31.751989   19.875              67.775\n",
       "4  '07/16/19 17:05:51'  41.753595   19.875   67.66159999999999"
      ]
     },
     "execution_count": 7,
     "metadata": {},
     "output_type": "execute_result"
    }
   ],
   "source": [
    "p.head()"
   ]
  },
  {
   "cell_type": "code",
   "execution_count": 8,
   "metadata": {},
   "outputs": [
    {
     "data": {
      "text/plain": [
       "<matplotlib.axes._subplots.AxesSubplot at 0x1a222c72b0>"
      ]
     },
     "execution_count": 8,
     "metadata": {},
     "output_type": "execute_result"
    },
    {
     "data": {
      "image/png": "[encoded data removed]",
      "text/plain": [
       "<Figure size 1080x720 with 1 Axes>"
      ]
     },
     "metadata": {
      "needs_background": "light"
     },
     "output_type": "display_data"
    }
   ],
   "source": [
    "p.plot(x='time',y='T deg C',figsize=(15,10),lw=4,title='Perroni in Freezer')"
   ]
  },
  {
   "cell_type": "code",
   "execution_count": 9,
   "metadata": {},
   "outputs": [],
   "source": [
    "w = pd.read_csv('Water_in_Perroni_Bottle_20190716.csv',names=['datetime','elapsed time','T deg C','T deg F'])"
   ]
  },
  {
   "cell_type": "code",
   "execution_count": 10,
   "metadata": {},
   "outputs": [
    {
     "data": {
      "text/html": [
       "<div>\n",
       "<style scoped>\n",
       "    .dataframe tbody tr th:only-of-type {\n",
       "        vertical-align: middle;\n",
       "    }\n",
       "\n",
       "    .dataframe tbody tr th {\n",
       "        vertical-align: top;\n",
       "    }\n",
       "\n",
       "    .dataframe thead th {\n",
       "        text-align: right;\n",
       "    }\n",
       "</style>\n",
       "<table border=\"1\" class=\"dataframe\">\n",
       "  <thead>\n",
       "    <tr style=\"text-align: right;\">\n",
       "      <th></th>\n",
       "      <th>datetime</th>\n",
       "      <th>elapsed time</th>\n",
       "      <th>T deg C</th>\n",
       "      <th>T deg F</th>\n",
       "    </tr>\n",
       "  </thead>\n",
       "  <tbody>\n",
       "    <tr>\n",
       "      <th>0</th>\n",
       "      <td>['07/16/19 18:00:25'</td>\n",
       "      <td>1.813386</td>\n",
       "      <td>43.750</td>\n",
       "      <td>110.75]</td>\n",
       "    </tr>\n",
       "    <tr>\n",
       "      <th>1</th>\n",
       "      <td>['07/16/19 18:00:35'</td>\n",
       "      <td>11.813268</td>\n",
       "      <td>43.687</td>\n",
       "      <td>110.6366]</td>\n",
       "    </tr>\n",
       "    <tr>\n",
       "      <th>2</th>\n",
       "      <td>['07/16/19 18:00:45'</td>\n",
       "      <td>21.813403</td>\n",
       "      <td>43.625</td>\n",
       "      <td>110.525]</td>\n",
       "    </tr>\n",
       "    <tr>\n",
       "      <th>3</th>\n",
       "      <td>['07/16/19 18:00:55'</td>\n",
       "      <td>31.813313</td>\n",
       "      <td>43.562</td>\n",
       "      <td>110.41159999999999]</td>\n",
       "    </tr>\n",
       "    <tr>\n",
       "      <th>4</th>\n",
       "      <td>['07/16/19 18:01:05'</td>\n",
       "      <td>41.813273</td>\n",
       "      <td>43.500</td>\n",
       "      <td>110.3]</td>\n",
       "    </tr>\n",
       "  </tbody>\n",
       "</table>\n",
       "</div>"
      ],
      "text/plain": [
       "               datetime  elapsed time  T deg C               T deg F\n",
       "0  ['07/16/19 18:00:25'      1.813386   43.750               110.75]\n",
       "1  ['07/16/19 18:00:35'     11.813268   43.687             110.6366]\n",
       "2  ['07/16/19 18:00:45'     21.813403   43.625              110.525]\n",
       "3  ['07/16/19 18:00:55'     31.813313   43.562   110.41159999999999]\n",
       "4  ['07/16/19 18:01:05'     41.813273   43.500                110.3]"
      ]
     },
     "execution_count": 10,
     "metadata": {},
     "output_type": "execute_result"
    }
   ],
   "source": [
    "w.head()"
   ]
  },
  {
   "cell_type": "code",
   "execution_count": 12,
   "metadata": {},
   "outputs": [],
   "source": [
    "#clean up data\n",
    "w['datetime'] = w['datetime'].str.strip(\"[\")\n",
    "w['T deg F'] = w['T deg F'].str.strip(\"]\")"
   ]
  },
  {
   "cell_type": "code",
   "execution_count": 14,
   "metadata": {},
   "outputs": [
    {
     "data": {
      "text/html": [
       "<div>\n",
       "<style scoped>\n",
       "    .dataframe tbody tr th:only-of-type {\n",
       "        vertical-align: middle;\n",
       "    }\n",
       "\n",
       "    .dataframe tbody tr th {\n",
       "        vertical-align: top;\n",
       "    }\n",
       "\n",
       "    .dataframe thead th {\n",
       "        text-align: right;\n",
       "    }\n",
       "</style>\n",
       "<table border=\"1\" class=\"dataframe\">\n",
       "  <thead>\n",
       "    <tr style=\"text-align: right;\">\n",
       "      <th></th>\n",
       "      <th>datetime</th>\n",
       "      <th>elapsed time</th>\n",
       "      <th>T deg C</th>\n",
       "      <th>T deg F</th>\n",
       "    </tr>\n",
       "  </thead>\n",
       "  <tbody>\n",
       "    <tr>\n",
       "      <th>0</th>\n",
       "      <td>'07/16/19 18:00:25'</td>\n",
       "      <td>1.813386</td>\n",
       "      <td>43.750</td>\n",
       "      <td>110.75</td>\n",
       "    </tr>\n",
       "    <tr>\n",
       "      <th>1</th>\n",
       "      <td>'07/16/19 18:00:35'</td>\n",
       "      <td>11.813268</td>\n",
       "      <td>43.687</td>\n",
       "      <td>110.6366</td>\n",
       "    </tr>\n",
       "    <tr>\n",
       "      <th>2</th>\n",
       "      <td>'07/16/19 18:00:45'</td>\n",
       "      <td>21.813403</td>\n",
       "      <td>43.625</td>\n",
       "      <td>110.525</td>\n",
       "    </tr>\n",
       "    <tr>\n",
       "      <th>3</th>\n",
       "      <td>'07/16/19 18:00:55'</td>\n",
       "      <td>31.813313</td>\n",
       "      <td>43.562</td>\n",
       "      <td>110.41159999999999</td>\n",
       "    </tr>\n",
       "    <tr>\n",
       "      <th>4</th>\n",
       "      <td>'07/16/19 18:01:05'</td>\n",
       "      <td>41.813273</td>\n",
       "      <td>43.500</td>\n",
       "      <td>110.3</td>\n",
       "    </tr>\n",
       "  </tbody>\n",
       "</table>\n",
       "</div>"
      ],
      "text/plain": [
       "              datetime  elapsed time  T deg C              T deg F\n",
       "0  '07/16/19 18:00:25'      1.813386   43.750               110.75\n",
       "1  '07/16/19 18:00:35'     11.813268   43.687             110.6366\n",
       "2  '07/16/19 18:00:45'     21.813403   43.625              110.525\n",
       "3  '07/16/19 18:00:55'     31.813313   43.562   110.41159999999999\n",
       "4  '07/16/19 18:01:05'     41.813273   43.500                110.3"
      ]
     },
     "execution_count": 14,
     "metadata": {},
     "output_type": "execute_result"
    }
   ],
   "source": [
    "w.head()"
   ]
  },
  {
   "cell_type": "code",
   "execution_count": 15,
   "metadata": {},
   "outputs": [
    {
     "data": {
      "text/plain": [
       "<matplotlib.axes._subplots.AxesSubplot at 0x1a22d330b8>"
      ]
     },
     "execution_count": 15,
     "metadata": {},
     "output_type": "execute_result"
    },
    {
     "data": {
      "image/png": "[encoded data removed]",
      "text/plain": [
       "<Figure size 1080x720 with 1 Axes>"
      ]
     },
     "metadata": {
      "needs_background": "light"
     },
     "output_type": "display_data"
    }
   ],
   "source": [
    "w.plot(x='elapsed time',y='T deg C',figsize=(15,10),lw=4,title='Water in Perroni Bottle in Freezer')"
   ]
  },
  {
   "cell_type": "code",
   "execution_count": null,
   "metadata": {},
   "outputs": [],
   "source": []
  },
  {
   "cell_type": "code",
   "execution_count": null,
   "metadata": {},
   "outputs": [],
   "source": []
  }
 ],
 "metadata": {
  "kernelspec": {
   "display_name": "Python 3",
   "language": "python",
   "name": "python3"
  },
  "language_info": {
   "codemirror_mode": {
    "name": "ipython",
    "version": 3
   },
   "file_extension": ".py",
   "mimetype": "text/x-python",
   "name": "python",
   "nbconvert_exporter": "python",
   "pygments_lexer": "ipython3",
   "version": "3.7.2"
  }
 },
 "nbformat": 4,
 "nbformat_minor": 2
}
